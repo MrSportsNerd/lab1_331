{
 "cells": [
  {
   "cell_type": "code",
   "execution_count": null,
   "metadata": {
    "collapsed": true
   },
   "outputs": [],
   "source": [
    "import json\n",
    "\n",
    "with open('streaks.json') as json_file: #this file is available on google drive so you don't need to run the finding streaks \n",
    "    streaks = json.load(json_file)"
   ]
  },
  {
   "cell_type": "code",
   "execution_count": null,
   "metadata": {
    "collapsed": true
   },
   "outputs": [],
   "source": [
    "#clean data again\n",
    "bannedList = ['cinjnwqjd', 'circwjcibwrb', 'wnicwjnjwbb', 'wrwcdcbfwfw', 'wrdjjwjccr', 'cwijrcijnf', \n",
    "              'wcfcbwrnwcj', 'wnwwcncfwrc', 'wjqjncwjq', 'ccwcfrijwjq', 'cidcfrjrcqw', \n",
    "              'icwqqriw', 'wiicwjcjwfw', 'jccbciwjf', 'wfrjbwncrn', 'bnjbwddwrf', 'cwqcfbcijf', 'ijwcrjcbd', 'wqcjiwwqq']\n",
    "        \n",
    "for banned in bannedList:\n",
    "    del streaks[banned]\n",
    "    \n",
    "for item in streaks:\n",
    "    j = 0\n",
    "    for item2 in streaks[item]:\n",
    "        if(len(item2) <= 1):\n",
    "            del streaks[item][j]\n",
    "        j += 1    "
   ]
  },
  {
   "cell_type": "code",
   "execution_count": null,
   "metadata": {},
   "outputs": [],
   "source": [
    "numStreaks = 0\n",
    "#gets number of total streaks\n",
    "for item in streaks:\n",
    "    numStreaks += len(streaks[item])\n",
    "print(numStreaks)\n"
   ]
  },
  {
   "cell_type": "code",
   "execution_count": null,
   "metadata": {},
   "outputs": [],
   "source": [
    "#gets average length of streak\n",
    "lengths = 0\n",
    "averageLength = 0\n",
    "for item in streaks:\n",
    "    for streak in streaks[item]:\n",
    "        lengths += len(streak)\n",
    "averageLength = lengths/numStreaks\n",
    "print(averageLength)\n",
    "    "
   ]
  },
  {
   "cell_type": "code",
   "execution_count": null,
   "metadata": {},
   "outputs": [],
   "source": [
    "#find max\n",
    "max  = 0\n",
    "maxUser = \"\"\n",
    "maxStreak = []\n",
    "for item in streaks:\n",
    "    for streak in streaks[item]:\n",
    "        if(len(streak) > max):\n",
    "            max = len(streak)\n",
    "            maxStreak = streak\n",
    "            maxUser = item\n",
    "print(maxStreak)\n",
    "print(max)\n",
    "print(maxUser)"
   ]
  },
  {
   "cell_type": "code",
   "execution_count": null,
   "metadata": {},
   "outputs": [],
   "source": [
    "#find IQR and outliers\n",
    "import pandas as pd\n",
    "\n",
    "lengthsList = []\n",
    "for item in streaks:\n",
    "    for streak in streaks[item]:\n",
    "        lengthsList.append(len(streak))\n",
    "lengthsList = sorted(lengthsList)\n",
    "s = pd.Series(lengthsList)\n",
    "s.describe()\n",
    "\n",
    "#for item in streaks:\n",
    " #   for streak in streaks[item]:\n",
    "  #     if(len(streak) > 5):\n",
    "   #         print(item)\n",
    "    #        print(streak) "
   ]
  },
  {
   "cell_type": "code",
   "execution_count": null,
   "metadata": {},
   "outputs": [],
   "source": [
    "#finds reptition of same string in sequence\n",
    "numExactStreaks = 0\n",
    "for item in streaks:\n",
    "    for streak in streaks[item]:\n",
    "        word = streak[0]\n",
    "        same = True\n",
    "        for string in streak:\n",
    "            if(word != string):\n",
    "                same = False\n",
    "        if(same):\n",
    "            numExactStreaks += 1\n",
    "print(numExactStreaks/numStreaks * 100)\n",
    "            "
   ]
  },
  {
   "cell_type": "code",
   "execution_count": null,
   "metadata": {},
   "outputs": [],
   "source": [
    "#finds queries with decent amount of variation\n",
    "def deleteDuplicates(aList):\n",
    "    seen = set()\n",
    "    seen_add = seen.add\n",
    "    return [x for x in aList if not (x in seen or seen_add(x))]    \n",
    "\n",
    "newList = []\n",
    "variationList = []\n",
    "for item in streaks:\n",
    "    for streak in streaks[item]:\n",
    "        newList = deleteDuplicates(streak)\n",
    "        if len(newList)/len(streak) <= .5:\n",
    "            variationList.append(streak)\n",
    "print(len(variationList))"
   ]
  },
  {
   "cell_type": "code",
   "execution_count": null,
   "metadata": {},
   "outputs": [],
   "source": [
    "#make a chart\n",
    "import matplotlib.pyplot as plt\n",
    "import numpy as np\n",
    "from itertools import groupby\n",
    "\n",
    "values = []\n",
    "for item in lengthsList:\n",
    "    if(item not in values):\n",
    "        values.append(item)\n",
    "\n",
    "frequency = [len(list(group)) for key, group in groupby(lengthsList)]\n",
    "\n",
    "del values[0]\n",
    "del frequency[0]\n",
    "\n",
    "t = frequency\n",
    "s = values\n",
    "\n",
    "\n",
    "plt.plot(s, t)\n",
    "\n",
    "plt.xlabel('Length of streak')\n",
    "plt.ylabel('Number of streaks')\n",
    "plt.title('Figure 1: Frequency of Streak Lengths')\n",
    "plt.grid(True)\n",
    "plt.savefig(\"test.png\")\n",
    "plt.show()"
   ]
  },
  {
   "cell_type": "code",
   "execution_count": null,
   "metadata": {
    "collapsed": true
   },
   "outputs": [],
   "source": []
  }
 ],
 "metadata": {
  "kernelspec": {
   "display_name": "Python 3",
   "language": "python",
   "name": "python3"
  },
  "language_info": {
   "codemirror_mode": {
    "name": "ipython",
    "version": 3
   },
   "file_extension": ".py",
   "mimetype": "text/x-python",
   "name": "python",
   "nbconvert_exporter": "python",
   "pygments_lexer": "ipython3",
   "version": "3.6.1"
  }
 },
 "nbformat": 4,
 "nbformat_minor": 2
}
