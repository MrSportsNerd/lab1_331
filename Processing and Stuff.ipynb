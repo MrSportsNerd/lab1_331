{
 "cells": [
  {
   "cell_type": "code",
   "execution_count": 13,
   "metadata": {
    "collapsed": true
   },
   "outputs": [],
   "source": [
    "queries = {\"data\":[]}"
   ]
  },
  {
   "cell_type": "code",
   "execution_count": 14,
   "metadata": {},
   "outputs": [],
   "source": [
    "import codecs\n",
    "file = codecs.open('data.txt', 'r','utf-8')\n",
    "i = 0\n",
    "\n",
    "for line in file:\n",
    "    i += 1\n",
    "    fields = line.split('\\t')\n",
    "    id = fields[0]\n",
    "    query = fields[1]\n",
    "    timestamp = fields[2]\n",
    "    query = {}\n",
    "    query['id'] = id\n",
    "    query['query'] = query\n",
    "    query['timestamp'] = timestamp\n",
    "    queries[\"data\"].append(query)\n",
    "    # print(id + '' + query + '' + timestamp + '\\n')\n",
    "    if(i > 10):\n",
    "        break\n",
    "file.close()\n"
   ]
  },
  {
   "cell_type": "code",
   "execution_count": 15,
   "metadata": {},
   "outputs": [
    {
     "name": "stdout",
     "output_type": "stream",
     "text": [
      "{'data': [{'id': 'cbdwdnwcjq', 'query': {...}, 'timestamp': '2002-09-08 07:00:54\\n'}, {'id': 'widwcccjcij', 'query': {...}, 'timestamp': '2002-09-08 07:00:57\\n'}, {'id': 'jdjqccjwdj', 'query': {...}, 'timestamp': '2002-09-08 07:00:59\\n'}, {'id': 'wbjbwccwcb', 'query': {...}, 'timestamp': '2002-09-08 07:01:03\\n'}, {'id': 'nfjiwifwbn', 'query': {...}, 'timestamp': '2002-09-08 07:01:04\\n'}, {'id': 'wbjbdqwcb', 'query': {...}, 'timestamp': '2002-09-08 07:01:06\\n'}, {'id': 'cfbwcwricid', 'query': {...}, 'timestamp': '2002-09-08 07:01:08\\n'}, {'id': 'crjrbccfw', 'query': {...}, 'timestamp': '2002-09-08 07:01:08\\n'}, {'id': 'cqjqcwrwbr', 'query': {...}, 'timestamp': '2002-09-08 07:01:09\\n'}, {'id': 'wndjbwnjcwf', 'query': {...}, 'timestamp': '2002-09-08 07:01:09\\n'}, {'id': 'wijwcwfcqf', 'query': {...}, 'timestamp': '2002-09-08 07:01:17\\n'}]}\n"
     ]
    }
   ],
   "source": [
    "print(queries)"
   ]
  },
  {
   "cell_type": "code",
   "execution_count": null,
   "metadata": {
    "collapsed": true
   },
   "outputs": [],
   "source": []
  }
 ],
 "metadata": {
  "kernelspec": {
   "display_name": "Python 3",
   "language": "python",
   "name": "python3"
  },
  "language_info": {
   "codemirror_mode": {
    "name": "ipython",
    "version": 3
   },
   "file_extension": ".py",
   "mimetype": "text/x-python",
   "name": "python",
   "nbconvert_exporter": "python",
   "pygments_lexer": "ipython3",
   "version": "3.6.1"
  }
 },
 "nbformat": 4,
 "nbformat_minor": 2
}
