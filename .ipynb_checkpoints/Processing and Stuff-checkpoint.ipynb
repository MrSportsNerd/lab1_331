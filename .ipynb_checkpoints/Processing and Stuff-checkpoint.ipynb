{
 "cells": [
  {
   "cell_type": "code",
   "execution_count": 8,
   "metadata": {},
   "outputs": [
    {
     "name": "stdout",
     "output_type": "stream",
     "text": [
      "cbdwdnwcjq\tsun conure breeders oregon\t2002-09-08 07:00:54\n",
      "\n",
      "widwcccjcij\tSt. Louis Ram Cheerleaders\t2002-09-08 07:00:57\n",
      "\n",
      "jdjqccjwdj\tHuntingdon High School\t2002-09-08 07:00:59\n",
      "\n",
      "wbjbwccwcb\tlink:www.virtualchase.com - host:www.virtualchase.com\t2002-09-08 07:01:03\n",
      "\n",
      "nfjiwifwbn\thome loan\t2002-09-08 07:01:04\n",
      "\n",
      "wbjbdqwcb\tlink:www.virtualchase.com - host:www.virtualchase.com\t2002-09-08 07:01:06\n",
      "\n",
      "cfbwcwricid\tsuikoden II MP3\t2002-09-08 07:01:08\n",
      "\n",
      "crjrbccfw\tbedroom furniture\t2002-09-08 07:01:08\n",
      "\n",
      "cqjqcwrwbr\t+\"iq test\" +score +\"queendom.com\"\t2002-09-08 07:01:09\n",
      "\n",
      "wndjbwnjcwf\tfetishism\t2002-09-08 07:01:09\n",
      "\n",
      "wijwcwfcqf\tlink:www.northcountyca.com -host:northcountyca.com\t2002-09-08 07:01:17\n",
      "\n"
     ]
    }
   ],
   "source": [
    "import codecs\n",
    "\n",
    "file = codecs.open('data.txt', 'r','utf-8')\n",
    "i = 0\n",
    "\n",
    "for line in file:\n",
    "    i += 1\n",
    "    print(line)\n",
    "    if(i > 10):\n",
    "        break\n",
    "file.close()\n"
   ]
  },
  {
   "cell_type": "code",
   "execution_count": null,
   "metadata": {
    "collapsed": true
   },
   "outputs": [],
   "source": []
  }
 ],
 "metadata": {
  "kernelspec": {
   "display_name": "Python 3",
   "language": "python",
   "name": "python3"
  },
  "language_info": {
   "codemirror_mode": {
    "name": "ipython",
    "version": 3
   },
   "file_extension": ".py",
   "mimetype": "text/x-python",
   "name": "python",
   "nbconvert_exporter": "python",
   "pygments_lexer": "ipython3",
   "version": "3.6.1"
  }
 },
 "nbformat": 4,
 "nbformat_minor": 2
}
