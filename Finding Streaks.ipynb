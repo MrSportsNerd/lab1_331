{
 "cells": [
  {
   "cell_type": "code",
   "execution_count": null,
   "metadata": {
    "collapsed": true
   },
   "outputs": [],
   "source": [
    "queriesData = []\n",
    "queryStreaks = {}\n",
    "banned = []\n",
    "bannedKeywords = ['link:', '-host:', 'url:', 'like:', 'OR', 'AND']\n",
    "humanUsers = [] \n",
    "humanQueries = 0"
   ]
  },
  {
   "cell_type": "code",
   "execution_count": null,
   "metadata": {
    "collapsed": true
   },
   "outputs": [],
   "source": [
    "def printData(data):\n",
    "    for item in data:\n",
    "        print(item['id'])\n",
    "        \n",
    "def updateData(data, query, time):\n",
    "    i = 0\n",
    "    exists = False\n",
    "    for item in data:\n",
    "        if(item['id'] == query['id']):\n",
    "            exists = True\n",
    "            if time - item['timestamp'] < 30 and time - item['timestamp'] != 0:\n",
    "                countStreak(item)\n",
    "                countStreak(query)\n",
    "            break\n",
    "        i += 1\n",
    "    if(exists):\n",
    "        data[i] = query\n",
    "    else:\n",
    "        data.append(query)\n",
    "    return data\n",
    "\n",
    "def convertTimestamp(timestamp):\n",
    "    temp = timestamp[11:]\n",
    "    temp = temp.replace(\":\", \"\")\n",
    "    return int(temp)\n",
    "            \n",
    "def cleanData(data, time):\n",
    "    try:\n",
    "        i = 0\n",
    "        for item in data:\n",
    "            if time - item['timestamp'] > 30:\n",
    "                del data[i]\n",
    "                i -= 1\n",
    "            i += 1\n",
    "    except IndexError as ex:\n",
    "        print(ex)\n",
    "    return data\n",
    "\n",
    "def countStreak(query):\n",
    "    streak = {}\n",
    "    streak['text'] = query['text']\n",
    "    streak['timestamp'] = query['timestamp']\n",
    "    isBanned = True\n",
    "    id = query['id']\n",
    "    if(id not in banned):\n",
    "        isBanned = False\n",
    "    if(not isBanned):\n",
    "        if(id in queryStreaks):\n",
    "            queryStreaks[id].append(streak)\n",
    "        else:\n",
    "            queryStreaks[id] = [streak]\n",
    "            \n",
    "def buildChains(queryStreakData):\n",
    "    tempList = []\n",
    "    tempDict = {}\n",
    "    \n",
    "    currentTime = -1\n",
    "    for item in queryStreakData:\n",
    "        for query in queryStreakData[item]:\n",
    "            if(currentTime == -1):\n",
    "                currentTime = query['timestamp']\n",
    "            if(abs(query['timestamp'] - currentTime) < 30):\n",
    "                tempList.append(query['text'])\n",
    "            else:\n",
    "                if(item in tempDict):\n",
    "                    tempDict[item].append(tempList)\n",
    "                else:\n",
    "                    tempDict[item] = [tempList]\n",
    "                tempList = []\n",
    "                tempList.append(query['text'])\n",
    "                currentTime = query['timestamp']\n",
    "    return tempDict\n"
   ]
  },
  {
   "cell_type": "code",
   "execution_count": null,
   "metadata": {},
   "outputs": [],
   "source": [
    "import codecs\n",
    "file = codecs.open('data.txt', 'r','utf-8')\n",
    "i = 0\n",
    "\n",
    "for line in file:\n",
    "    i += 1\n",
    "    fields = line.split('\\t')\n",
    "    try:\n",
    "        id = fields[0]\n",
    "        text = fields[1]\n",
    "        timestamp = fields[2]\n",
    "        if any(word in text for word in bannedKeywords):\n",
    "            banned.append(id)\n",
    "        else:\n",
    "            query = {}\n",
    "            humanQueries += 1\n",
    "            query['id'] = id\n",
    "            query['text'] = text\n",
    "            query['date'] = timestamp\n",
    "            query['timestamp'] = convertTimestamp(timestamp)\n",
    "            currentTime = query['timestamp']\n",
    "            humanUsers.append(query['id'])\n",
    "            queriesData = updateData(queriesData, query, currentTime)\n",
    "        if(i % 500 == 0):\n",
    "            queriesData = cleanData(queriesData, currentTime)\n",
    "        if(i % 10000 == 0):\n",
    "            print(i)\n",
    "    except IndexError as er:\n",
    "        print(i)\n",
    "file.close()\n"
   ]
  },
  {
   "cell_type": "code",
   "execution_count": null,
   "metadata": {
    "collapsed": true
   },
   "outputs": [],
   "source": [
    "def deleteDuplicates(aList):\n",
    "    seen = set()\n",
    "    seen_add = seen.add\n",
    "    return [x for x in aList if not (x in seen or seen_add(x))]\n",
    "sortedHumanUsers = deleteDuplicates(humanUsers)"
   ]
  },
  {
   "cell_type": "code",
   "execution_count": null,
   "metadata": {
    "collapsed": true
   },
   "outputs": [],
   "source": [
    "queryStreaks = buildChains(queryStreaks)\n",
    "\n",
    "for item in queryStreaks:\n",
    "    j = 0\n",
    "    for streak in queryStreaks[item]:\n",
    "        if(len(streak) <= 1):\n",
    "            del queryStreaks[item][j]\n",
    "        j += 1"
   ]
  },
  {
   "cell_type": "code",
   "execution_count": null,
   "metadata": {},
   "outputs": [],
   "source": [
    "print(len(queryStreaks))\n",
    "print(humanQueries)"
   ]
  },
  {
   "cell_type": "code",
   "execution_count": null,
   "metadata": {
    "collapsed": true
   },
   "outputs": [],
   "source": [
    "import json\n",
    "def export():\n",
    "    with open('streaks.json', 'w') as outfile:  \n",
    "        json.dump(queryStreaks, outfile)"
   ]
  },
  {
   "cell_type": "code",
   "execution_count": null,
   "metadata": {
    "collapsed": true
   },
   "outputs": [],
   "source": [
    "export()"
   ]
  },
  {
   "cell_type": "code",
   "execution_count": null,
   "metadata": {},
   "outputs": [],
   "source": [
    "print(len(sortedHumanUsers))"
   ]
  },
  {
   "cell_type": "code",
   "execution_count": null,
   "metadata": {
    "collapsed": true
   },
   "outputs": [],
   "source": []
  }
 ],
 "metadata": {
  "kernelspec": {
   "display_name": "Python 3",
   "language": "python",
   "name": "python3"
  },
  "language_info": {
   "codemirror_mode": {
    "name": "ipython",
    "version": 3
   },
   "file_extension": ".py",
   "mimetype": "text/x-python",
   "name": "python",
   "nbconvert_exporter": "python",
   "pygments_lexer": "ipython3",
   "version": "3.6.1"
  }
 },
 "nbformat": 4,
 "nbformat_minor": 2
}
